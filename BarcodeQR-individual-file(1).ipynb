{
 "cells": [
  {
   "cell_type": "markdown",
   "metadata": {},
   "source": [
    "# Adopted from https://gitlab.qdatalabs.com/quantiphi-sagemaker-marketplace-examples/bar-qr-code-detection/blob/master/BarcodeQRcodeScannerNB-ARN.ipynb\n",
    "\n",
    "## Imports"
   ]
  },
  {
   "cell_type": "code",
   "execution_count": 1,
   "metadata": {},
   "outputs": [],
   "source": [
    "import sagemaker as sage\n",
    "import os\n",
    "import boto3\n",
    "from sagemaker import get_execution_role\n",
    "from sagemaker import transformer\n",
    "from sagemaker import model\n",
    "\n",
    "role = get_execution_role()"
   ]
  },
  {
   "cell_type": "markdown",
   "metadata": {},
   "source": [
    "## Create the session\n",
    "\n",
    "The session remembers our connection parameters to Amazon SageMaker. We'll use it to perform all of our SageMaker operations."
   ]
  },
  {
   "cell_type": "code",
   "execution_count": 2,
   "metadata": {},
   "outputs": [],
   "source": [
    "sess = sage.Session()\n",
    "\n",
    "account = sess.boto_session.client('sts').get_caller_identity()['Account']\n",
    "region = sess.boto_session.region_name"
   ]
  },
  {
   "cell_type": "markdown",
   "metadata": {},
   "source": [
    "## Create Model\n",
    "\n",
    "Now we use the Bar/QR-code Scanner Model Package to create a model"
   ]
  },
  {
   "cell_type": "code",
   "execution_count": 3,
   "metadata": {},
   "outputs": [],
   "source": [
    "from src.model_package_arns import ModelPackageArnProvider"
   ]
  },
  {
   "cell_type": "code",
   "execution_count": 4,
   "metadata": {},
   "outputs": [
    {
     "name": "stdout",
     "output_type": "stream",
     "text": [
      "arn:aws:sagemaker:us-east-1:865070037744:model-package/bar-qr-code-reader-1571413449-a35a47dda86b16474ecd69ff9f20b46f\n"
     ]
    }
   ],
   "source": [
    "from sagemaker import ModelPackage\n",
    "modelpackage_arn = ModelPackageArnProvider.get_model_package_arn(sess.boto_region_name)\n",
    "\n",
    "# Define predictor wrapper class\n",
    "def predict_wrapper(endpoint, session):\n",
    "    return sage.RealTimePredictor(endpoint, session, content_type='image/jpeg')\n",
    "\n",
    "# Create a deployable model\n",
    "model = ModelPackage(role=role,\n",
    "                                      model_package_arn = modelpackage_arn,\n",
    "                                      sagemaker_session = sess,\n",
    "                                      predictor_cls = predict_wrapper)\n",
    "# ARN\n",
    "print(modelpackage_arn)"
   ]
  },
  {
   "cell_type": "markdown",
   "metadata": {},
   "source": [
    "### Live Inference Endpoint\n",
    "\n",
    "Now we demonstrate the creation of an endpoint for live inference"
   ]
  },
  {
   "cell_type": "code",
   "execution_count": 36,
   "metadata": {},
   "outputs": [
    {
     "name": "stderr",
     "output_type": "stream",
     "text": [
      "Using already existing model: bar-qr-code-reader-1571413449-a35a47dda-2020-04-14-14-36-12-091\n"
     ]
    },
    {
     "name": "stdout",
     "output_type": "stream",
     "text": [
      "-------------!"
     ]
    }
   ],
   "source": [
    "# Deploy the model\n",
    "predictor = model.deploy(1, 'ml.m5.12xlarge', endpoint_name='barcode-endpoint')"
   ]
  },
  {
   "cell_type": "markdown",
   "metadata": {},
   "source": [
    "### Testing on a single file \n",
    "\n",
    "The model takes an image file (.jpg/.png) as input. We give the location of the sample input file and prepare it for payload. An example has been shown in the following code shell.\n",
    "\n",
    "We get the response for our request as a dictionary of Barcode Data and the Barcode Type associated with the barcode. In case of a QR code, the Barcode Type is returned as \"QR-code\"."
   ]
  },
  {
   "cell_type": "code",
   "execution_count": 37,
   "metadata": {},
   "outputs": [],
   "source": [
    "file_name = 'data/test_files/SixBoxesInCar2.jpg'"
   ]
  },
  {
   "cell_type": "markdown",
   "metadata": {},
   "source": [
    "#### Preparing the input file for payload and viewing the response"
   ]
  },
  {
   "cell_type": "code",
   "execution_count": 38,
   "metadata": {},
   "outputs": [
    {
     "name": "stdout",
     "output_type": "stream",
     "text": [
      "{\"N35E-ZCOO-C1VL-9TL5\": \"QRCODE\", \"CW7L-R0WW-JF2K-KD2D\": \"QRCODE\", \"2888-ABFS-N1IM-D6R0\": \"QRCODE\", \"9UIQ-NVR1-DD58-KCYY\": \"QRCODE\", \"J2HY-S0O2-G2HV-8T9D\": \"QRCODE\"}\n"
     ]
    }
   ],
   "source": [
    "# Open the file and read the image into a bytearray.\n",
    "with open(file_name, \"rb\") as image:\n",
    "  b = bytearray(image.read())\n",
    "\n",
    "# Perform a prediction\n",
    "result = predictor.predict(b).decode('utf-8')\n",
    "\n",
    "# View the prediction\n",
    "print(result)"
   ]
  },
  {
   "cell_type": "markdown",
   "metadata": {},
   "source": [
    "### Clean Up Endpoint"
   ]
  },
  {
   "cell_type": "code",
   "execution_count": 13,
   "metadata": {},
   "outputs": [],
   "source": [
    "predictor.delete_endpoint()"
   ]
  }
 ],
 "metadata": {
  "kernelspec": {
   "display_name": "conda_python3",
   "language": "python",
   "name": "conda_python3"
  },
  "language_info": {
   "codemirror_mode": {
    "name": "ipython",
    "version": 3
   },
   "file_extension": ".py",
   "mimetype": "text/x-python",
   "name": "python",
   "nbconvert_exporter": "python",
   "pygments_lexer": "ipython3",
   "version": "3.6.5"
  }
 },
 "nbformat": 4,
 "nbformat_minor": 4
}
